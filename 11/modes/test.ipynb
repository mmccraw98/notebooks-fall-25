{
 "cells": [
  {
   "cell_type": "code",
   "execution_count": null,
   "id": "ebce9889",
   "metadata": {},
   "outputs": [],
   "source": [
    "import pydpmd as dp\n",
    "from pydpmd.plot import draw_particles_frame\n",
    "from pydpmd.utils import split_systems, join_systems\n",
    "import matplotlib.pyplot as plt\n",
    "import numpy as np\n",
    "import os\n",
    "from mode_resources import *\n",
    "from local_sim import *"
   ]
  },
  {
   "cell_type": "code",
   "execution_count": null,
   "id": "25ff5a8b",
   "metadata": {},
   "outputs": [],
   "source": [
    "p = '/Users/marshallmccraw/Projects/yale/data/f-25/09-01-25/disk-jamming-large/disk/jamming_0'\n",
    "# p = '/Users/marshallmccraw/Projects/yale/data/f-25/09-01-25/disk-jamming-small/disk/jamming_0'\n",
    "data = dp.data.load(p, location=['final', 'init'])\n",
    "data = split_systems(data)[0]"
   ]
  },
  {
   "cell_type": "code",
   "execution_count": null,
   "id": "370ae332",
   "metadata": {},
   "outputs": [],
   "source": [
    "draw_particles_frame(None, plt.gca(), data, 0, True, 'particle', 'viridis', None)"
   ]
  },
  {
   "cell_type": "code",
   "execution_count": null,
   "id": "c2539459",
   "metadata": {},
   "outputs": [],
   "source": [
    "H_disk, M_disk, val_disk, vec_disk, non_rattler_ids_disk = get_dynamical_matrix_modes_for_disk(data)\n",
    "H = H_disk[0]\n",
    "M = M_disk[0]\n",
    "val = val_disk[0]\n",
    "vec = vec_disk[0]\n",
    "N = H.shape[0] // 2"
   ]
  },
  {
   "cell_type": "code",
   "execution_count": null,
   "id": "5ec05052",
   "metadata": {},
   "outputs": [],
   "source": [
    "i = 2\n",
    "u_i = val[i]\n",
    "v_i = np.column_stack((vec[:N, i], vec[N:, i]))\n",
    "draw_particles_frame(None, plt.gca(), data, 0, True, 'particle', 'viridis', None)\n",
    "plt.quiver(np.mod(data.pos[non_rattler_ids_disk, 0], data.box_size[0, 0]), np.mod(data.pos[non_rattler_ids_disk, 1], data.box_size[0, 1]), v_i[:, 0], v_i[:, 1])"
   ]
  },
  {
   "cell_type": "code",
   "execution_count": null,
   "id": "62e47e79",
   "metadata": {},
   "outputs": [],
   "source": [
    "temperature = 1e-10\n",
    "delta_phi = -1e-4\n",
    "\n",
    "pos = data.pos[non_rattler_ids_disk][0].copy()\n",
    "radii = data.rad[non_rattler_ids_disk][0].copy()\n",
    "mass = data.rad[non_rattler_ids_disk][0].copy()\n",
    "box_size = data.box_size[0].copy()\n",
    "\n",
    "vec_all = np.sum(vec[:, 2:], axis=1)\n",
    "vec_all = np.column_stack((vec_all[:N], vec_all[N:]))\n",
    "vel = vec_all.copy()\n",
    "scale = np.sqrt(temperature / (np.sum(mass * np.sum(vel ** 2, axis=1)) / (N - 1)))\n",
    "vel *= scale\n",
    "\n",
    "phi = np.sum(np.pi * radii ** 2) / np.prod(box_size)\n",
    "phi = phi + delta_phi\n",
    "new_box_size = np.sqrt(np.sum(np.pi * radii ** 2) / (phi)) * np.ones_like(box_size)\n",
    "scale = new_box_size / box_size\n",
    "box_size *= scale\n",
    "pos *= scale"
   ]
  },
  {
   "cell_type": "code",
   "execution_count": null,
   "id": "577a049c",
   "metadata": {},
   "outputs": [],
   "source": [
    "N_steps = 100000\n",
    "N_save_steps = 100000\n",
    "k = 1.0\n",
    "dt = 1e-2\n",
    "\n",
    "verlet_skin = 0.5\n",
    "verlet_cutoff = 2 * np.max(data.rad) * (1 + verlet_skin)\n",
    "displacement = np.zeros_like(data.rad)\n",
    "\n",
    "neighbors_i, neighbors_j = build_neighbor_list(pos, box_size, verlet_cutoff)\n",
    "force, pe = compute_forces_numba(pos, radii, k, neighbors_i, neighbors_j, box_size)\n",
    "disp = np.zeros_like(radii)\n",
    "last_pos = pos.copy()\n",
    "\n",
    "pe_total = np.zeros(N_save_steps)\n",
    "ke_total = np.zeros(N_save_steps)\n",
    "P = np.zeros((N_save_steps, pos.shape[0], pos.shape[1]))\n",
    "V = np.zeros((N_save_steps, pos.shape[0], pos.shape[1]))\n",
    "t = np.zeros_like(pe_total)\n",
    "F, R = [], []\n",
    "\n",
    "for i in range(N_steps):\n",
    "    # update state\n",
    "    vel += force * dt / (2 * mass[:, None])\n",
    "    pos += vel * dt\n",
    "    force, pe = compute_forces_numba(pos, radii, k, neighbors_i, neighbors_j, box_size)\n",
    "    vel += force * dt / (2 * mass[:, None])\n",
    "\n",
    "    # update displacements and neighbors if needed\n",
    "    disp = np.linalg.norm(pos - last_pos, axis=1)\n",
    "    if np.any(disp > verlet_skin / 2.0):\n",
    "        neighbors_i, neighbors_j = build_neighbor_list(pos, box_size, verlet_cutoff)\n",
    "        last_pos = pos.copy()\n",
    "\n",
    "    # log\n",
    "    if i % N_steps // N_save_steps == 0:\n",
    "        t[i] = dt * i\n",
    "        pe_total[i] = np.sum(pe)\n",
    "        ke_total[i] = 0.5 * np.sum(mass[:, None] * vel ** 2)\n",
    "        P[i] = pos\n",
    "        V[i] = vel\n",
    "        _F, _R = compute_pairwise_force_matrix(pos, radii, k, neighbors_i, neighbors_j, box_size)\n",
    "        F.append(_F)\n",
    "        R.append(_R)\n",
    "\n",
    "F = np.array(F)\n",
    "R = np.array(R)"
   ]
  },
  {
   "cell_type": "code",
   "execution_count": null,
   "id": "e672d9a2",
   "metadata": {},
   "outputs": [],
   "source": [
    "F_ij = np.linalg.norm(F, axis=-1)\n",
    "R_ij = np.linalg.norm(R, axis=-1)\n",
    "sigma_ij = radii[:, None] + radii[None, :]\n",
    "d_ij = sigma_ij - R_ij"
   ]
  },
  {
   "cell_type": "code",
   "execution_count": null,
   "id": "eb3f841d",
   "metadata": {},
   "outputs": [],
   "source": [
    "F_ij_bar = np.mean(F_ij, axis=0)\n",
    "d_ij_bar = np.mean(d_ij, axis=0)\n",
    "plt.scatter(-d_ij_bar[F_ij_bar > 0].flatten(), F_ij_bar[F_ij_bar > 0].flatten())\n",
    "plt.xscale('log')\n",
    "plt.yscale('log')\n",
    "x = np.logspace(-3, -5, 10)\n",
    "plt.plot(x, temperature/x)"
   ]
  },
  {
   "cell_type": "code",
   "execution_count": null,
   "id": "96c9cc2c",
   "metadata": {},
   "outputs": [],
   "source": [
    "plt.scatter(d_ij[F_ij > 0].flatten(), F_ij[F_ij > 0].flatten())"
   ]
  },
  {
   "cell_type": "code",
   "execution_count": null,
   "id": "4a4d7f2c",
   "metadata": {},
   "outputs": [],
   "source": [
    "np.sum(F_ij[10] != 0)\n",
    "plt.plot(np.sum(F_ij != 0, axis=(1, 2)))"
   ]
  },
  {
   "cell_type": "code",
   "execution_count": null,
   "id": "8d8fa995",
   "metadata": {},
   "outputs": [],
   "source": [
    "# plt.plot(pe_total + ke_total)\n",
    "plt.plot(pe_total)\n",
    "# plt.plot(ke_total)"
   ]
  },
  {
   "cell_type": "code",
   "execution_count": null,
   "id": "9e27a2ab",
   "metadata": {},
   "outputs": [],
   "source": [
    "for i in range(pos.shape[0]):\n",
    "    plt.plot(*P[:, i].T)"
   ]
  },
  {
   "cell_type": "code",
   "execution_count": null,
   "id": "c1739127",
   "metadata": {},
   "outputs": [],
   "source": [
    "U = P - np.mean(P, axis=0)\n",
    "UU = np.concatenate((U[:, :, 0], U[:, :, 1]), axis=1)\n",
    "VV = np.concatenate((V[:, :, 0], V[:, :, 1]), axis=1)\n",
    "\n",
    "C = (UU.T @ UU)\n",
    "Vc = (VV.T @ VV)\n",
    "\n",
    "np.linalg.eigh(Vc @ np.linalg.pinv(C))"
   ]
  }
 ],
 "metadata": {
  "kernelspec": {
   "display_name": "dp2",
   "language": "python",
   "name": "python3"
  },
  "language_info": {
   "codemirror_mode": {
    "name": "ipython",
    "version": 3
   },
   "file_extension": ".py",
   "mimetype": "text/x-python",
   "name": "python",
   "nbconvert_exporter": "python",
   "pygments_lexer": "ipython3",
   "version": "3.11.11"
  }
 },
 "nbformat": 4,
 "nbformat_minor": 5
}
