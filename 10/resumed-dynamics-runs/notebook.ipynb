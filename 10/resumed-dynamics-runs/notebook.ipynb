{
 "cells": [
  {
   "cell_type": "code",
   "execution_count": null,
   "id": "abd94e16",
   "metadata": {},
   "outputs": [],
   "source": [
    "import os\n",
    "\n",
    "root = '/Users/marshallmccraw/Projects/yale/data/s-25/10-02-25/grace-data/'\n",
    "T = 1e-6\n",
    "\n",
    "old_dir = os.path.join(root, 'rb-compression-diffusion-lower-temp')\n",
    "old_dt = 5e-2\n",
    "\n",
    "new_trans_dir = os.path.join(root, 'rb-compression-diffusion-lower-temp-continuing-translations')\n",
    "new_trans_dt = 1e-1\n",
    "\n",
    "new_rot_dir = os.path.join(root, 'rb-compression-diffusion-lower-temp-continuing-rotations')\n",
    "new_rot_dt = 5e-2\n"
   ]
  }
 ],
 "metadata": {
  "language_info": {
   "name": "python"
  }
 },
 "nbformat": 4,
 "nbformat_minor": 5
}
