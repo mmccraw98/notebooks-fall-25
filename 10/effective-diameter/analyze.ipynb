{
 "cells": [
  {
   "cell_type": "markdown",
   "id": "879147c2",
   "metadata": {},
   "source": [
    "# Calculate: Effective Radius, Effective Packing Fraction, and Relative RMS Roughness for Particle Species"
   ]
  },
  {
   "cell_type": "code",
   "execution_count": 7,
   "id": "a7cf8194",
   "metadata": {},
   "outputs": [],
   "source": [
    "import pydpmd as dp\n",
    "from tqdm import tqdm\n",
    "from pydpmd.plot import draw_particles_frame\n",
    "import os\n",
    "import numpy as np\n",
    "import matplotlib.pyplot as plt\n",
    "import pandas as pd\n",
    "import matplotlib.pyplot as plt\n",
    "from pydpmd.data import load\n",
    "import numpy as np\n",
    "import scipy as sp\n",
    "from system_building_resources import *\n",
    "from shapely.geometry import Polygon, Point\n",
    "from shapely.ops import unary_union"
   ]
  },
  {
   "cell_type": "code",
   "execution_count": 4,
   "id": "af060d01",
   "metadata": {},
   "outputs": [
    {
     "name": "stdout",
     "output_type": "stream",
     "text": [
      "Minimizing\n",
      "Done\n"
     ]
    },
    {
     "name": "stderr",
     "output_type": "stream",
     "text": [
      "/home/mmccraw/dev/pydpmd/src/pydpmd/data/bumpy_utils.py:5: RuntimeWarning: invalid value encountered in sqrt\n",
      "  return 1 / np.sqrt(((2 * vertex_radius) / ((outer_radius - vertex_radius) * np.sin(np.pi / num_vertices))) ** 2 - 1)\n",
      "/home/mmccraw/dev/pydpmd/src/pydpmd/data/bumpy_utils.py:5: RuntimeWarning: divide by zero encountered in divide\n",
      "  return 1 / np.sqrt(((2 * vertex_radius) / ((outer_radius - vertex_radius) * np.sin(np.pi / num_vertices))) ** 2 - 1)\n"
     ]
    }
   ],
   "source": [
    "radii = generate_bidisperse_radii(100, 0.5, 1.4)\n",
    "which = 'small'\n",
    "packing_fraction = 0.7\n",
    "phi_increment = 1e-3\n",
    "temperature = 1e-6\n",
    "n_steps = 1e5\n",
    "save_freq = 1e0\n",
    "dt = 1e-2\n",
    "pe_tol = 1e-14\n",
    "n_duplicates_per_system = 10\n",
    "\n",
    "# build the initial data and equilibrate it, ideally to a 0-overlap state\n",
    "mu_effs = []\n",
    "nvs = []\n",
    "for mu_eff in [0.01, 0.05, 0.1, 0.5, 1.0]:\n",
    "    for nv in [3, 6, 10, 20, 30]:\n",
    "        mu_effs.append(mu_eff)\n",
    "        nvs.append(nv)\n",
    "assert len(mu_effs) == len(nvs)\n",
    "\n",
    "cap_nv = 3\n",
    "add_core = True\n",
    "# create the systems at a 10% lower density than initially desired so that the duplicate systems have a chance to become sufficiently dissimilar\n",
    "# this way, we avoid having to create 10x duplicates in the below function which is very slow\n",
    "rb = build_rigid_bumpy_system_from_radii(radii, which, mu_effs, nvs, packing_fraction, add_core, cap_nv, 'uniform', len(mu_effs))\n",
    "rb.calculate_mu_eff()"
   ]
  },
  {
   "cell_type": "code",
   "execution_count": null,
   "id": "797d3e26",
   "metadata": {},
   "outputs": [],
   "source": [
    "effective_geometry_data = {\n",
    "    'phi': [],\n",
    "    'phi_eff': [],\n",
    "    'outer_phi_eff': [],\n",
    "    'sigma_eff_small': [],\n",
    "    'sigma_eff_large': [],\n",
    "    'relative_rms_roughness_small': [],\n",
    "    'relative_rms_roughness_large': [],\n",
    "    'outer_sigma_small': [],\n",
    "    'outer_sigma_large': [],\n",
    "    'mu_eff': [],\n",
    "    'nv': [],\n",
    "}\n",
    "for sid in range(rb.n_systems()):\n",
    "    # small particles\n",
    "    vpos = rb.vertex_pos[rb.vertex_particle_id == rb.system_offset[sid]]\n",
    "    vrad = rb.vertex_rad[rb.vertex_particle_id == rb.system_offset[sid]]\n",
    "    ppos = rb.pos[rb.system_offset[sid]]\n",
    "    rad = rb.rad[rb.system_offset[sid]]\n",
    "    true_area_small = rb.area[rb.system_offset[sid]]\n",
    "    exterior = np.array(unary_union([Point(pos).buffer(rad, quad_segs=1e5) for pos, rad in zip(vpos, vrad)]).exterior.coords)\n",
    "    profile = np.linalg.norm(exterior - ppos, axis=1)\n",
    "    sigma_eff_small = 2 * np.mean(profile)\n",
    "    relative_rms_roughness_small = 2 * np.sqrt(np.mean(profile ** 2)) / sigma_eff_small\n",
    "    outer_sigma_small = 2 * rad\n",
    "    N_small = np.sum(rb.rad[rb.system_offset[sid]:rb.system_offset[sid + 1]] == rad)\n",
    "\n",
    "    # large particles\n",
    "    vpos = rb.vertex_pos[rb.vertex_particle_id == rb.system_offset[sid + 1] - 1]\n",
    "    vrad = rb.vertex_rad[rb.vertex_particle_id == rb.system_offset[sid + 1] - 1]\n",
    "    ppos = rb.pos[rb.system_offset[sid + 1] - 1]\n",
    "    rad = rb.rad[rb.system_offset[sid + 1] - 1]\n",
    "    true_area_large = rb.area[rb.system_offset[sid + 1] - 1]\n",
    "    exterior = np.array(unary_union([Point(pos).buffer(rad, quad_segs=1e5) for pos, rad in zip(vpos, vrad)]).exterior.coords)\n",
    "    profile = np.linalg.norm(exterior - ppos, axis=1)\n",
    "    sigma_eff_large = 2 * np.mean(profile)\n",
    "    relative_rms_roughness_large = 2 * np.sqrt(np.mean(profile ** 2)) / sigma_eff_large\n",
    "    outer_sigma_large = 2 * rad\n",
    "    N_large = np.sum(rb.rad[rb.system_offset[sid]:rb.system_offset[sid + 1]] == rad)\n",
    "\n",
    "    # effective packing fraction\n",
    "    box_area = np.prod(rb.box_size[sid])\n",
    "    phi_eff = (N_small * np.pi * (sigma_eff_small / 2) ** 2 + N_large * np.pi * (sigma_eff_large / 2) ** 2) / box_area\n",
    "    outer_phi_eff = (N_small * np.pi * (outer_sigma_small / 2) ** 2 + N_large * np.pi * (outer_sigma_large / 2) ** 2) / box_area\n",
    "    phi = rb.packing_fraction[sid]\n",
    "\n",
    "    effective_geometry_data['phi'].append(phi)\n",
    "    effective_geometry_data['phi_eff'].append(phi_eff)\n",
    "    effective_geometry_data['outer_phi_eff'].append(outer_phi_eff)\n",
    "    effective_geometry_data['sigma_eff_small'].append(sigma_eff_small)\n",
    "    effective_geometry_data['sigma_eff_large'].append(sigma_eff_large)\n",
    "    effective_geometry_data['relative_rms_roughness_small'].append(relative_rms_roughness_small)\n",
    "    effective_geometry_data['relative_rms_roughness_large'].append(relative_rms_roughness_large)\n",
    "    effective_geometry_data['outer_sigma_small'].append(outer_sigma_small)\n",
    "    effective_geometry_data['outer_sigma_large'].append(outer_sigma_large)\n",
    "    effective_geometry_data['mu_eff'].append(rb.mu_eff[rb.system_offset[sid]])\n",
    "    effective_geometry_data['nv'].append(rb.n_vertices_per_particle[rb.system_offset[sid]])\n",
    "\n",
    "effective_geometry_data = pd.DataFrame(effective_geometry_data)\n"
   ]
  },
  {
   "cell_type": "code",
   "execution_count": 70,
   "id": "7b7c61e3",
   "metadata": {},
   "outputs": [],
   "source": [
    "effective_geometry_data.to_csv('effective_geometry_data.csv', index=False)"
   ]
  }
 ],
 "metadata": {
  "kernelspec": {
   "display_name": "dp2",
   "language": "python",
   "name": "python3"
  },
  "language_info": {
   "codemirror_mode": {
    "name": "ipython",
    "version": 3
   },
   "file_extension": ".py",
   "mimetype": "text/x-python",
   "name": "python",
   "nbconvert_exporter": "python",
   "pygments_lexer": "ipython3",
   "version": "3.11.11"
  }
 },
 "nbformat": 4,
 "nbformat_minor": 5
}
