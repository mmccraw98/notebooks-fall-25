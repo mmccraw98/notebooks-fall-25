{
 "cells": [
  {
   "cell_type": "code",
   "execution_count": 2,
   "id": "286cf870",
   "metadata": {},
   "outputs": [],
   "source": [
    "import numpy as np\n",
    "from pydpmd.data import RigidBumpy, load\n",
    "from pydpmd.plot import draw_particles_frame, create_animation, downsample\n",
    "import matplotlib.pyplot as plt"
   ]
  },
  {
   "cell_type": "code",
   "execution_count": 3,
   "id": "cec8913d",
   "metadata": {},
   "outputs": [],
   "source": [
    "rb = load(\"/home/mmccraw/dev/data/09-09-25/new-initializations/dynamics_29\", location=[\"init\", \"final\"], load_trajectory=True)"
   ]
  },
  {
   "cell_type": "code",
   "execution_count": 4,
   "id": "b44344a4",
   "metadata": {},
   "outputs": [
    {
     "data": {
      "image/png": "[encoded data removed]",
      "text/plain": [
       "<Figure size 640x480 with 1 Axes>"
      ]
     },
     "metadata": {},
     "output_type": "display_data"
    }
   ],
   "source": [
    "plt.plot(rb.trajectory.pe_total + rb.trajectory.ke_total)\n",
    "plt.yscale('log')"
   ]
  },
  {
   "cell_type": "code",
   "execution_count": 272,
   "id": "109d156a",
   "metadata": {},
   "outputs": [
    {
     "name": "stderr",
     "output_type": "stream",
     "text": [
      "Creating animation:   5%|▌         | 5/100 [00:00<00:02, 45.51it/s]"
     ]
    },
    {
     "name": "stdout",
     "output_type": "stream",
     "text": [
      "Saving animation to test.gif...\n"
     ]
    },
    {
     "name": "stderr",
     "output_type": "stream",
     "text": [
      "Creating animation: 101it [00:05, 17.41it/s]                        "
     ]
    },
    {
     "name": "stdout",
     "output_type": "stream",
     "text": [
      "Animation saved successfully!\n"
     ]
    },
    {
     "name": "stderr",
     "output_type": "stream",
     "text": [
      "\n"
     ]
    }
   ],
   "source": [
    "desired_frames = 100\n",
    "steps_to_animate = downsample(rb, desired_frames)\n",
    "\n",
    "# Define the output path\n",
    "output_path = \"test.gif\"\n",
    "\n",
    "# Create the animation using the downsampled steps\n",
    "create_animation(\n",
    "    update_func=draw_particles_frame,\n",
    "    frames=steps_to_animate,\n",
    "    filename=output_path,\n",
    "    fps=15,  # 15 fps for smooth but not too fast animation\n",
    "    dpi=150,  # Higher resolution\n",
    "    bitrate=3000,  # Higher bitrate for better quality\n",
    "    # Keyword arguments passed to draw_particles_frame\n",
    "    data=rb,\n",
    "    system_id=4,\n",
    "    use_pbc=True,\n",
    "    which='particle',\n",
    "    cmap_name='viridis'\n",
    ")"
   ]
  }
 ],
 "metadata": {
  "kernelspec": {
   "display_name": "dp2",
   "language": "python",
   "name": "python3"
  },
  "language_info": {
   "codemirror_mode": {
    "name": "ipython",
    "version": 3
   },
   "file_extension": ".py",
   "mimetype": "text/x-python",
   "name": "python",
   "nbconvert_exporter": "python",
   "pygments_lexer": "ipython3",
   "version": "3.11.11"
  }
 },
 "nbformat": 4,
 "nbformat_minor": 5
}
