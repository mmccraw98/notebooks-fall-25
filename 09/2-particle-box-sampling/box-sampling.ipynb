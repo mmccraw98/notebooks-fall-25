{
 "cells": [
  {
   "cell_type": "code",
   "execution_count": 85,
   "id": "78abd7d8",
   "metadata": {},
   "outputs": [],
   "source": [
    "import numpy as np\n",
    "from pydpmd.data import RigidBumpy, load, BaseParticle\n",
    "from pydpmd.data.bumpy_utils import get_closest_vertex_radius_for_mu_eff\n",
    "from pydpmd.utils import join_systems, split_systems\n",
    "from pydpmd.plot import draw_particles_frame\n",
    "import matplotlib.pyplot as plt\n",
    "import os"
   ]
  },
  {
   "cell_type": "code",
   "execution_count": 2,
   "id": "95bfb73f",
   "metadata": {},
   "outputs": [],
   "source": [
    "# add sampling domains to the box sampling protocol\n",
    "# each domain has a particle id attached to it (domain is a convex hull)\n",
    "# default domain size is the box\n",
    "# add a launcher that creates a dataset for each system type and records valid positions, angles, domain sizes, and free volume fractions\n",
    "# resize domain function (scales domain about its center of mass, optionally clipping to box sizes if it is too big)\n",
    "# if a system has a domain with too high a free volume fraction, it should be expanded, if it is too low, it should be shrunk - then should be re-run\n",
    "# protocol runs until a desired number of samples are obtained\n",
    "\n",
    "# make rigid bumpy with core\n",
    "\n",
    "# get right energy scale"
   ]
  },
  {
   "cell_type": "code",
   "execution_count": 75,
   "id": "6917a5a6",
   "metadata": {},
   "outputs": [],
   "source": [
    "def clamp_domains_to_box(domain_pos, domain_size, box_size, system_id):\n",
    "    box_repeat = np.concatenate([box_size[sid][None].repeat(domain_size[i], axis=0) for i, sid in enumerate(system_id)])\n",
    "    return np.clip(domain_pos, np.zeros_like(box_repeat), box_repeat)\n",
    "\n",
    "def tri_area(a, b, c):\n",
    "    return 0.5 * ((b[0] - a[0]) * (c[1] - a[1]) - (c[0] - a[0]) * (b[1] - a[1]))\n",
    "\n",
    "def get_domain_areas(domain_pos, domain_centroid):\n",
    "    areas = []\n",
    "    size = domain_pos.shape[0]\n",
    "    for i in range(0, size):\n",
    "        areas.append(tri_area(domain_centroid, domain_pos[i], domain_pos[(i + 1) % size]))\n",
    "    areas = np.array(areas)\n",
    "    total_area = np.sum(areas)\n",
    "    return np.cumsum(areas) / total_area, total_area\n",
    "\n",
    "def build_domains(data: BaseParticle, domain_style: str = \"square\", pos: np.ndarray = None, domain_particle_id: np.ndarray = None, clamp_to_box: bool = False, domain_kwargs: dict = {}):\n",
    "    \"\"\"\n",
    "    Build polygonal domains, typically centered around particles, typically used for sampling.\n",
    "\n",
    "    Args:\n",
    "        data (BaseParticle): The system data.\n",
    "        domain_style (str): The style of domain to build (square, )\n",
    "        pos (np.ndarray): The positions of the particles to build domains for.  If not specified, the positions from the data are used.\n",
    "        domain_particle_id (np.ndarray): The particle ids to build domains for.  If not specified, one is built for each particle.\n",
    "        clamp_to_box (bool): Whether to clamp the domain to the box.  Set to True for sampling in a walled container.\n",
    "        domain_kwargs (dict): Additional keyword arguments for the domain.\n",
    "    \"\"\"\n",
    "    if pos is None:\n",
    "        pos = data.pos\n",
    "    assert pos.shape == data.pos.shape\n",
    "    if domain_particle_id is None:  # if not specified, build one for each particle\n",
    "        domain_particle_id = np.arange(len(pos))\n",
    "\n",
    "    if domain_style == \"square\":\n",
    "        domain_length = domain_kwargs.get(\"domain_length\")\n",
    "        domain_stencil = np.array([[-1, -1], [1, -1], [1, 1], [-1, 1]]) * domain_length / 2\n",
    "        domain_pos = np.concatenate([domain_stencil + pos[i] for i in domain_particle_id])\n",
    "        domain_size = np.ones(domain_particle_id.shape[0]).astype(int) * domain_stencil.shape[0]\n",
    "\n",
    "    domain_offset = np.concatenate([[0], np.cumsum(domain_size)])\n",
    "    if clamp_to_box:\n",
    "        domain_pos = clamp_domains_to_box(domain_pos, domain_size, box_size, system_id)\n",
    "    domain_centroid = np.array([np.mean(domain_pos[domain_offset[i]:domain_offset[i + 1]], axis=0) for i in range(len(domain_offset) - 1)])\n",
    "\n",
    "    # divide the domain into triangles, calculate the cumulative fractional area in each, and the total area\n",
    "    domain_fractional_area, domain_area = zip(*[\n",
    "        get_domain_areas(\n",
    "            domain_pos[domain_offset[i]:domain_offset[i + 1]],\n",
    "            domain_centroid[i]\n",
    "        ) for i in range(len(domain_offset) - 1)])\n",
    "\n",
    "    domain_fractional_area = np.concatenate(domain_fractional_area)\n",
    "    domain_area = np.array(domain_area)\n",
    "\n",
    "    # add domains to the data\n",
    "    data.add_array(domain_pos, \"domain_pos\", ignore_missing_index_space=True)\n",
    "    data.add_array(domain_centroid, \"domain_centroid\", ignore_missing_index_space=True)\n",
    "    data.add_array(domain_offset, \"domain_offset\", ignore_missing_index_space=True)\n",
    "    data.add_array(domain_fractional_area, \"domain_fractional_area\", ignore_missing_index_space=True)\n",
    "    data.add_array(domain_area, \"domain_area\", ignore_missing_index_space=True)\n",
    "    data.add_array(domain_particle_id, \"domain_particle_id\", ignore_missing_index_space=True)\n",
    "\n",
    "data_root = f\"/home/mmccraw/dev/data/09-09-25/bumpy/0.01/jam\"\n",
    "jam_data = load(data_root, location=[\"final\", \"init\"])\n",
    "\n",
    "# build_domains(jam_data, domain_style=\"square\", domain_kwargs={\"domain_length\": 0.2})\n",
    "# jam_data.save('test')"
   ]
  },
  {
   "cell_type": "code",
   "execution_count": null,
   "id": "0e012cc9",
   "metadata": {},
   "outputs": [
    {
     "ename": "TypeError",
     "evalue": "'NoneType' object is not subscriptable",
     "output_type": "error",
     "traceback": [
      "\u001b[0;31m---------------------------------------------------------------------------\u001b[0m",
      "\u001b[0;31mTypeError\u001b[0m                                 Traceback (most recent call last)",
      "Cell \u001b[0;32mIn[76], line 17\u001b[0m\n\u001b[1;32m     15\u001b[0m \u001b[38;5;66;03m# create a block of n_phi_steps systems, each with a different phi value\u001b[39;00m\n\u001b[1;32m     16\u001b[0m offset_data \u001b[38;5;241m=\u001b[39m join_systems([largest_packing_fraction_system \u001b[38;5;28;01mfor\u001b[39;00m _ \u001b[38;5;129;01min\u001b[39;00m \u001b[38;5;28mrange\u001b[39m(n_phi_steps)])\n\u001b[0;32m---> 17\u001b[0m \u001b[43moffset_data\u001b[49m\u001b[38;5;241;43m.\u001b[39;49m\u001b[43mscale_to_packing_fraction\u001b[49m\u001b[43m(\u001b[49m\u001b[43mphi\u001b[49m\u001b[43m)\u001b[49m\n\u001b[1;32m     18\u001b[0m offset_data\u001b[38;5;241m.\u001b[39madd_array(delta_phi, \u001b[38;5;124m'\u001b[39m\u001b[38;5;124mdelta_phi\u001b[39m\u001b[38;5;124m'\u001b[39m)\n",
      "File \u001b[0;32m~/dev/pydpmd/src/pydpmd/data/base_particle.py:436\u001b[0m, in \u001b[0;36mBaseParticle.scale_to_packing_fraction\u001b[0;34m(self, packing_fraction)\u001b[0m\n\u001b[1;32m    434\u001b[0m \u001b[38;5;28;01mif\u001b[39;00m \u001b[38;5;28misinstance\u001b[39m(packing_fraction, \u001b[38;5;28mfloat\u001b[39m):\n\u001b[1;32m    435\u001b[0m     packing_fraction \u001b[38;5;241m=\u001b[39m np\u001b[38;5;241m.\u001b[39mfull((\u001b[38;5;28mself\u001b[39m\u001b[38;5;241m.\u001b[39mn_systems(),), packing_fraction)\n\u001b[0;32m--> 436\u001b[0m \u001b[38;5;28;43mself\u001b[39;49m\u001b[38;5;241;43m.\u001b[39;49m\u001b[43mcalculate_packing_fraction\u001b[49m\u001b[43m(\u001b[49m\u001b[43m)\u001b[49m\n\u001b[1;32m    437\u001b[0m scale \u001b[38;5;241m=\u001b[39m np\u001b[38;5;241m.\u001b[39msqrt(\u001b[38;5;28mself\u001b[39m\u001b[38;5;241m.\u001b[39mpacking_fraction \u001b[38;5;241m/\u001b[39m packing_fraction)\n\u001b[1;32m    438\u001b[0m \u001b[38;5;28mself\u001b[39m\u001b[38;5;241m.\u001b[39mbox_size \u001b[38;5;241m*\u001b[39m\u001b[38;5;241m=\u001b[39m scale[:, \u001b[38;5;28;01mNone\u001b[39;00m]\n",
      "File \u001b[0;32m~/dev/pydpmd/src/pydpmd/data/base_particle.py:419\u001b[0m, in \u001b[0;36mBaseParticle.calculate_packing_fraction\u001b[0;34m(self)\u001b[0m\n\u001b[1;32m    418\u001b[0m \u001b[38;5;28;01mdef\u001b[39;00m \u001b[38;5;21mcalculate_packing_fraction\u001b[39m(\u001b[38;5;28mself\u001b[39m) \u001b[38;5;241m-\u001b[39m\u001b[38;5;241m>\u001b[39m \u001b[38;5;28;01mNone\u001b[39;00m:\n\u001b[0;32m--> 419\u001b[0m     \u001b[38;5;28;43mself\u001b[39;49m\u001b[38;5;241;43m.\u001b[39;49m\u001b[43mcalculate_area\u001b[49m\u001b[43m(\u001b[49m\u001b[43m)\u001b[49m\n\u001b[1;32m    420\u001b[0m     \u001b[38;5;28mself\u001b[39m\u001b[38;5;241m.\u001b[39mpacking_fraction \u001b[38;5;241m=\u001b[39m np\u001b[38;5;241m.\u001b[39marray([\n\u001b[1;32m    421\u001b[0m         np\u001b[38;5;241m.\u001b[39msum(\u001b[38;5;28mself\u001b[39m\u001b[38;5;241m.\u001b[39marea[\u001b[38;5;28mself\u001b[39m\u001b[38;5;241m.\u001b[39msystem_offset[i]:\u001b[38;5;28mself\u001b[39m\u001b[38;5;241m.\u001b[39msystem_offset[i\u001b[38;5;241m+\u001b[39m\u001b[38;5;241m1\u001b[39m]]) \u001b[38;5;241m/\u001b[39m (\u001b[38;5;28mself\u001b[39m\u001b[38;5;241m.\u001b[39mbox_size[i,\u001b[38;5;241m0\u001b[39m] \u001b[38;5;241m*\u001b[39m \u001b[38;5;28mself\u001b[39m\u001b[38;5;241m.\u001b[39mbox_size[i,\u001b[38;5;241m1\u001b[39m])\n\u001b[1;32m    422\u001b[0m         \u001b[38;5;28;01mfor\u001b[39;00m i \u001b[38;5;129;01min\u001b[39;00m \u001b[38;5;28mrange\u001b[39m(\u001b[38;5;28mself\u001b[39m\u001b[38;5;241m.\u001b[39mn_systems())\n\u001b[1;32m    423\u001b[0m     ])\n",
      "File \u001b[0;32m~/dev/pydpmd/src/pydpmd/data/rigid_bumpy.py:67\u001b[0m, in \u001b[0;36mRigidBumpy.calculate_area\u001b[0;34m(self)\u001b[0m\n\u001b[1;32m     65\u001b[0m qs \u001b[38;5;241m=\u001b[39m \u001b[38;5;241m1e4\u001b[39m\n\u001b[1;32m     66\u001b[0m single_vertex_mask \u001b[38;5;241m=\u001b[39m np\u001b[38;5;241m.\u001b[39mwhere(\u001b[38;5;28mself\u001b[39m\u001b[38;5;241m.\u001b[39mn_vertices_per_particle \u001b[38;5;241m==\u001b[39m \u001b[38;5;241m1\u001b[39m)[\u001b[38;5;241m0\u001b[39m]\n\u001b[0;32m---> 67\u001b[0m \u001b[38;5;28mself\u001b[39m\u001b[38;5;241m.\u001b[39marea[single_vertex_mask] \u001b[38;5;241m=\u001b[39m np\u001b[38;5;241m.\u001b[39mpi \u001b[38;5;241m*\u001b[39m \u001b[38;5;28;43mself\u001b[39;49m\u001b[38;5;241;43m.\u001b[39;49m\u001b[43mrad\u001b[49m\u001b[43m[\u001b[49m\u001b[43msingle_vertex_mask\u001b[49m\u001b[43m]\u001b[49m \u001b[38;5;241m*\u001b[39m\u001b[38;5;241m*\u001b[39m \u001b[38;5;241m2\u001b[39m\n\u001b[1;32m     68\u001b[0m multi_vertex_mask \u001b[38;5;241m=\u001b[39m np\u001b[38;5;241m.\u001b[39mwhere(\u001b[38;5;28mself\u001b[39m\u001b[38;5;241m.\u001b[39mn_vertices_per_particle \u001b[38;5;241m>\u001b[39m \u001b[38;5;241m1\u001b[39m)[\u001b[38;5;241m0\u001b[39m]\n\u001b[1;32m     69\u001b[0m \u001b[38;5;28;01mif\u001b[39;00m \u001b[38;5;28mlen\u001b[39m(multi_vertex_mask) \u001b[38;5;241m>\u001b[39m \u001b[38;5;241m0\u001b[39m:\n",
      "\u001b[0;31mTypeError\u001b[0m: 'NoneType' object is not subscriptable"
     ]
    }
   ],
   "source": [
    "min_phi = 0.01\n",
    "min_phi_offset = 1e-4\n",
    "n_phi_steps = 10\n",
    "\n"
   ]
  },
  {
   "cell_type": "code",
   "execution_count": 77,
   "id": "ae5b841c",
   "metadata": {},
   "outputs": [
    {
     "ename": "NameError",
     "evalue": "name 'rb' is not defined",
     "output_type": "error",
     "traceback": [
      "\u001b[0;31m---------------------------------------------------------------------------\u001b[0m",
      "\u001b[0;31mNameError\u001b[0m                                 Traceback (most recent call last)",
      "Cell \u001b[0;32mIn[77], line 19\u001b[0m\n\u001b[1;32m     16\u001b[0m     os\u001b[38;5;241m.\u001b[39mremove(h5_out_path)\n\u001b[1;32m     18\u001b[0m \u001b[38;5;66;03m# create a block of n_phi_steps systems, each with a different phi value\u001b[39;00m\n\u001b[0;32m---> 19\u001b[0m offset_data \u001b[38;5;241m=\u001b[39m join_systems(\u001b[43m[\u001b[49m\u001b[43mrb\u001b[49m\u001b[43m \u001b[49m\u001b[38;5;28;43;01mfor\u001b[39;49;00m\u001b[43m \u001b[49m\u001b[43m_\u001b[49m\u001b[43m \u001b[49m\u001b[38;5;129;43;01min\u001b[39;49;00m\u001b[43m \u001b[49m\u001b[38;5;28;43mrange\u001b[39;49m\u001b[43m(\u001b[49m\u001b[43mn_phi_steps\u001b[49m\u001b[43m)\u001b[49m\u001b[43m]\u001b[49m)\n\u001b[1;32m     20\u001b[0m offset_data\u001b[38;5;241m.\u001b[39mscale_to_packing_fraction(phi)\n\u001b[1;32m     21\u001b[0m offset_data\u001b[38;5;241m.\u001b[39madd_array(delta_phi, \u001b[38;5;124m'\u001b[39m\u001b[38;5;124mdelta_phi\u001b[39m\u001b[38;5;124m'\u001b[39m)\n",
      "Cell \u001b[0;32mIn[77], line 19\u001b[0m, in \u001b[0;36m<listcomp>\u001b[0;34m(.0)\u001b[0m\n\u001b[1;32m     16\u001b[0m     os\u001b[38;5;241m.\u001b[39mremove(h5_out_path)\n\u001b[1;32m     18\u001b[0m \u001b[38;5;66;03m# create a block of n_phi_steps systems, each with a different phi value\u001b[39;00m\n\u001b[0;32m---> 19\u001b[0m offset_data \u001b[38;5;241m=\u001b[39m join_systems([\u001b[43mrb\u001b[49m \u001b[38;5;28;01mfor\u001b[39;00m _ \u001b[38;5;129;01min\u001b[39;00m \u001b[38;5;28mrange\u001b[39m(n_phi_steps)])\n\u001b[1;32m     20\u001b[0m offset_data\u001b[38;5;241m.\u001b[39mscale_to_packing_fraction(phi)\n\u001b[1;32m     21\u001b[0m offset_data\u001b[38;5;241m.\u001b[39madd_array(delta_phi, \u001b[38;5;124m'\u001b[39m\u001b[38;5;124mdelta_phi\u001b[39m\u001b[38;5;124m'\u001b[39m)\n",
      "\u001b[0;31mNameError\u001b[0m: name 'rb' is not defined"
     ]
    }
   ],
   "source": [
    "pe_mask = jam_data.final.pe_total / jam_data.system_size < pe_tol\n",
    "phi_j = np.max(jam_data.final.packing_fraction[pe_mask])\n",
    "if phi_j - max_phi_offset < 0.1:\n",
    "    max_phi_offset = phi_j - 0.1\n",
    "delta_phi = np.logspace(np.log10(min_phi_offset), np.log10(max_phi_offset), n_phi_steps - 1)\n",
    "delta_phi = np.concatenate((delta_phi, [phi_j - 0.1]))\n",
    "phi = phi_j - delta_phi\n",
    "\n",
    "# Stable catalog of targets and integer TODO indices\n",
    "delta_phi_all = delta_phi.copy()\n",
    "todo_idx = np.arange(delta_phi_all.size, dtype=int)\n",
    "\n",
    "# Output HDF5 path (streaming writes per iteration)\n",
    "h5_out_path = os.path.join(data_root, \"box_sample_result.h5\")\n",
    "if os.path.exists(h5_out_path):\n",
    "    os.remove(h5_out_path)\n",
    "\n",
    "# create a block of n_phi_steps systems, each with a different phi value\n",
    "offset_data = join_systems([rb for _ in range(n_phi_steps)])\n",
    "offset_data.scale_to_packing_fraction(phi)\n",
    "offset_data.add_array(delta_phi, 'delta_phi')\n",
    "\n",
    "# create max_n_dynamics_duplicates / n_phi_steps duplicates of the concatenated dynamics_data\n",
    "offset_data = join_systems([offset_data for _ in range(max_n_dynamics_duplicates // n_phi_steps)])\n",
    "offset_data.set_positions(1, rng_seed)  # set random positions\n",
    "offset_data.save(offset_data_path, locations=[\"init\"])"
   ]
  },
  {
   "cell_type": "code",
   "execution_count": null,
   "id": "b20b80e6",
   "metadata": {},
   "outputs": [],
   "source": [
    "\n",
    "\n",
    "\n",
    "# create max_n_dynamics_duplicates / n_phi_steps duplicates of the concatenated dynamics_data\n",
    "offset_data = join_systems([offset_data for _ in range(max_n_dynamics_duplicates // n_phi_steps)])"
   ]
  },
  {
   "cell_type": "code",
   "execution_count": 33,
   "id": "a181d2c2",
   "metadata": {},
   "outputs": [
    {
     "name": "stderr",
     "output_type": "stream",
     "text": [
      "Loading trajectory: 100%|██████████| 4/4 [00:00<00:00, 20.27it/s]\n"
     ]
    }
   ],
   "source": [
    "data = load('test', location=[\"final\", \"init\"], load_trajectory=True)"
   ]
  },
  {
   "cell_type": "code",
   "execution_count": 79,
   "id": "d4b24142",
   "metadata": {},
   "outputs": [
    {
     "name": "stderr",
     "output_type": "stream",
     "text": [
      "Loading trajectory: 100%|██████████| 4/4 [00:00<00:00, 12.09it/s]\n"
     ]
    }
   ],
   "source": [
    "data = load('/home/mmccraw/dev/data/09-09-25/box-sample/bumpy/0.01/init', location=['init'], load_trajectory=True)"
   ]
  },
  {
   "cell_type": "code",
   "execution_count": null,
   "id": "18cfc6d6",
   "metadata": {},
   "outputs": [
    {
     "ename": "AttributeError",
     "evalue": "'RigidBumpy' object has no attribute 'domain_pos'",
     "output_type": "error",
     "traceback": [
      "\u001b[0;31m---------------------------------------------------------------------------\u001b[0m",
      "\u001b[0;31mAttributeError\u001b[0m                            Traceback (most recent call last)",
      "Cell \u001b[0;32mIn[102], line 3\u001b[0m\n\u001b[1;32m      1\u001b[0m delta_phi \u001b[38;5;241m=\u001b[39m data\u001b[38;5;241m.\u001b[39mdelta_phi\u001b[38;5;241m.\u001b[39mcopy()\n\u001b[0;32m----> 3\u001b[0m \u001b[43mdata\u001b[49m\u001b[38;5;241;43m.\u001b[39;49m\u001b[43mdomain_pos\u001b[49m\n",
      "\u001b[0;31mAttributeError\u001b[0m: 'RigidBumpy' object has no attribute 'domain_pos'"
     ]
    }
   ],
   "source": [
    "delta_phi = data.delta_phi.copy()\n",
    "\n"
   ]
  }
 ],
 "metadata": {
  "kernelspec": {
   "display_name": "dp2",
   "language": "python",
   "name": "python3"
  },
  "language_info": {
   "codemirror_mode": {
    "name": "ipython",
    "version": 3
   },
   "file_extension": ".py",
   "mimetype": "text/x-python",
   "name": "python",
   "nbconvert_exporter": "python",
   "pygments_lexer": "ipython3",
   "version": "3.11.11"
  }
 },
 "nbformat": 4,
 "nbformat_minor": 5
}
